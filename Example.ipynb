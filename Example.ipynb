{
 "cells": [
  {
   "cell_type": "markdown",
   "metadata": {},
   "source": [
    "1. Parse HMDB json file"
   ]
  },
  {
   "cell_type": "code",
   "execution_count": null,
   "metadata": {},
   "outputs": [],
   "source": [
    "import json\n",
    "import numpy as np\n",
    "import pandas as pd\n",
    "from tqdm import tqdm\n",
    "from molmass import Formula\n",
    "from rdkit import Chem\n",
    "from rdkit.Chem import AllChem\n",
    "from PyCFMID.PyCFMID import cfm_predict\n",
    "from DIA.utils import get_decoy_spectrum"
   ]
  },
  {
   "cell_type": "code",
   "execution_count": null,
   "metadata": {},
   "outputs": [],
   "source": [
    "metabolite_json = 'HMDB/urine_metabolites.json'\n",
    "\n",
    "with open(metabolite_json, 'r') as read_file:\n",
    "    metabo_data = json.load(read_file)\n",
    "\n",
    "hmdb, metab, smiles, precursors = [], [], [], []\n",
    "for item in metabo_data:\n",
    "    # combine isomers as their spectra are very similar\n",
    "    try:\n",
    "        precursor = Formula(item['chemical_formula']).isotope.mass + 1.0078\n",
    "    except:\n",
    "        precursor = np.nan\n",
    "    \n",
    "    try:\n",
    "        smi = Chem.MolToSmiles(Chem.MolFromSmiles(item['smiles']), isomericSmiles=False)\n",
    "    except:\n",
    "        smi = item['smiles']\n",
    "    \n",
    "    if smi not in smiles:\n",
    "        precursors.append(precursor)\n",
    "        metab.append(item['name'])\n",
    "        hmdb.append(item['accession'])\n",
    "        smiles.append(item['smiles'])\n",
    "\n",
    "hmdb_metab = pd.DataFrame({'ID': hmdb, 'Metabolite': metab, 'Adduct': '[M+H]+', 'Precursor_mz': precursors, 'SMILES': smiles})\n",
    "hmdb_metab.to_csv('HMDB/urine_metabolites.csv', index = False)"
   ]
  },
  {
   "cell_type": "markdown",
   "metadata": {},
   "source": [
    "2. Generate predicted spectrum and decoy spectrum"
   ]
  },
  {
   "cell_type": "code",
   "execution_count": null,
   "metadata": {},
   "outputs": [],
   "source": [
    "spectra = []\n",
    "for smi in tqdm(smiles):\n",
    "    try:\n",
    "        spectrum = cfm_predict(smi, param_file='', config_file='', annotate_fragments=False, output_file=None, apply_postproc=True, suppress_exceptions=False)\n",
    "    except:\n",
    "        spectrum = None\n",
    "    spectra.append(spectrum)\n",
    "np.save('HMDB/urine_spectra.npy', spectra)"
   ]
  },
  {
   "cell_type": "code",
   "execution_count": null,
   "metadata": {},
   "outputs": [],
   "source": [
    "true_spectra, decoy_spectra = dict(), dict()\n",
    "for i in tqdm(range(len(all_spectra))):\n",
    "    metabolite = hmdb_metab.loc[i, 'Metabolite']\n",
    "    precursor_mz = hmdb_metab.loc[i, 'Precursor_mz']\n",
    "    \n",
    "    if np.isnan(precursor_mz):\n",
    "        true_spectra[metabolite] = spectra[i]['medium_energy']\n",
    "        decoy_spectra[metabolite] = None\n",
    "    else:\n",
    "        decoy_spectrum = get_decoy_spectrum(precursor_mz, spectra[i]['medium_energy'])\n",
    "        true_spectra[metabolite] = spectra[i]['medium_energy']\n",
    "        decoy_spectra[metabolite] = decoy_spectrum\n",
    "        \n",
    "np.save('HMDB/true_urine_spectra.npy', true_spectra)\n",
    "np.save('HMDB/decoy_urine_spectra.npy', decoy_spectra)\n",
    "new_metab.to_csv('HMDB/all_metabolites.csv', index = False)"
   ]
  },
  {
   "cell_type": "markdown",
   "metadata": {},
   "source": [
    "3. Process DIA dataset"
   ]
  },
  {
   "cell_type": "code",
   "execution_count": null,
   "metadata": {},
   "outputs": [],
   "source": [
    "from DIA.core import process_dataset, grouping_results\n",
    "from DIA.iq import create_metabo_list, create_metabo_table"
   ]
  },
  {
   "cell_type": "code",
   "execution_count": null,
   "metadata": {},
   "outputs": [],
   "source": [
    "file_dir = 'D:/data/MTBLS816_mzML'\n",
    "file_met = 'HMDB/all_metabolites.csv'\n",
    "file_spectra = 'HMDB/true_urine_spectra.npy'\n",
    "decoy_spectra = 'HMDB/decoy_urine_spectra.npy'\n",
    "\n",
    "# true results\n",
    "results, spectra = process_dataset(file_dir, file_met, file_spectra, parallel=True, energy = 30, peak_threshold=5000)\n",
    "results = grouping_results(results, n_candidate=1000, rt_tol = 15)\n",
    "quant_list = create_metabo_list(results, median_normalization = False, missing_value_filter = 0.3)\n",
    "quant_table = create_metabo_table(quant_list, spectra, 'topN', 5)\n",
    "np.save('quant_table.npy', quant_table)\n",
    "np.save('quant_list.npy', quant_list)\n",
    "\n",
    "# decoy results\n",
    "decoy, decoyspectra = process_dataset(file_dir, file_met, decoy_spectra, parallel=True, energy = 30, peak_threshold=5000)\n",
    "decoy = grouping_results(decoy, n_candidate=1000, rt_tol = 15)\n",
    "decoy_list = create_metabo_list(decoy, median_normalization = False, missing_value_filter = 0.3)\n",
    "decoy_table = create_metabo_table(decoy_list, decoyspectra, 'topN', 5)\n",
    "np.save('decoy_table.npy', decoy_table)\n",
    "np.save('decoy_list.npy', decoy_list)"
   ]
  },
  {
   "cell_type": "markdown",
   "metadata": {},
   "source": [
    "4. Evaluate FDR"
   ]
  },
  {
   "cell_type": "code",
   "execution_count": null,
   "metadata": {},
   "outputs": [],
   "source": [
    "n_metabolites = np.unique([i.split('_')[0] for i in quant_list.keys()])\n",
    "print(len(n_metabolites))\n",
    "\n",
    "quant_list = np.load('quant_list.npy', allow_pickle=True).item()\n",
    "quant_table = np.load('quant_table.npy', allow_pickle=True)\n",
    "decoy_table = np.load('decoy_table.npy', allow_pickle=True)\n",
    "\n",
    "true_scores = np.array(quant_table[1])\n",
    "decoy_scores = np.array(decoy_table[1])\n",
    "decoy_scores[np.isnan(decoy_scores)] = 0\n",
    "\n",
    "pvals = stats.t.sf((true_scores - np.mean(decoy_scores)) / np.std(decoy_scores), len(decoy_scores)-1)\n",
    "thres = true_scores[np.argmin(np.abs(pvals - 0.05))]\n",
    "\n",
    "quant_output = quant_table[0]\n",
    "quant_output['MCI Score'] = quant_table[1]\n",
    "quant_output['RT'] = [i.split('_')[-1] for i in quant_table[0].index]\n",
    "quant_output['p value'] = pvals\n",
    "quant_output.to_csv('quant_output.csv')\n",
    "\n",
    "decoy_output = decoy_table[0]\n",
    "decoy_output['MCI Score'] = decoy_table[1]\n",
    "decoy_output['RT'] = [i.split('_')[-1] for i in decoy_table[0].index]\n",
    "decoy_output.to_csv('decoy_output.csv')\n",
    "\n",
    "plt.figure(dpi = 300)\n",
    "plt.hist(true_scores, bins = 50, color='coral', alpha=0.7, label = 'urine')\n",
    "plt.hist(decoy_scores, bins = 50, color='navy', alpha=0.7, label = 'decoy')\n",
    "plt.plot([thres, thres], [0, 1200], color='red', label='p-val = 0.05')\n",
    "plt.xlabel('MCI scores')\n",
    "plt.ylabel('peak groups')\n",
    "plt.legend()\n",
    "plt.show()"
   ]
  }
 ],
 "metadata": {
  "kernelspec": {
   "display_name": "Python 3",
   "language": "python",
   "name": "python3"
  },
  "language_info": {
   "codemirror_mode": {
    "name": "ipython",
    "version": 3
   },
   "file_extension": ".py",
   "mimetype": "text/x-python",
   "name": "python",
   "nbconvert_exporter": "python",
   "pygments_lexer": "ipython3",
   "version": "3.7.6"
  }
 },
 "nbformat": 4,
 "nbformat_minor": 4
}
